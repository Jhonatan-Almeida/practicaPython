{
  "nbformat": 4,
  "nbformat_minor": 0,
  "metadata": {
    "colab": {
      "provenance": []
    },
    "kernelspec": {
      "name": "python3",
      "display_name": "Python 3"
    },
    "language_info": {
      "name": "python"
    }
  },
  "cells": [
    {
      "cell_type": "code",
      "execution_count": null,
      "metadata": {
        "id": "6Z3D94E5x0LP"
      },
      "outputs": [],
      "source": [
        "languajes = [\"python\",\"javascript\",\"c++\"]"
      ]
    },
    {
      "cell_type": "code",
      "source": [
        "cap_lenguajes = []\n",
        "for lenguaje in languajes:\n",
        "  cap_lenguajes.append(lenguaje.capitalize())\n",
        "cap_lenguajes"
      ],
      "metadata": {
        "colab": {
          "base_uri": "https://localhost:8080/"
        },
        "id": "i5QOFxVz0D-X",
        "outputId": "b2f707a3-0474-4e2e-a94c-e9fde9180714"
      },
      "execution_count": null,
      "outputs": [
        {
          "output_type": "execute_result",
          "data": {
            "text/plain": [
              "['Python', 'Javascript', 'C++']"
            ]
          },
          "metadata": {},
          "execution_count": 2
        }
      ]
    },
    {
      "cell_type": "code",
      "source": [
        "cap_lenguajes_comp = [lenguaje.capitalize() for lenguaje in languajes]\n",
        "cap_lenguajes_comp"
      ],
      "metadata": {
        "colab": {
          "base_uri": "https://localhost:8080/"
        },
        "id": "npm6BhYr0YY8",
        "outputId": "ed4277b8-e2e0-461c-cf45-fd1d1986d73d"
      },
      "execution_count": null,
      "outputs": [
        {
          "output_type": "execute_result",
          "data": {
            "text/plain": [
              "['Python', 'Javascript', 'C++']"
            ]
          },
          "metadata": {},
          "execution_count": 5
        }
      ]
    },
    {
      "cell_type": "code",
      "source": [
        "languajes = [lenguaje.capitalize() for lenguaje in languajes]\n",
        "languajes"
      ],
      "metadata": {
        "colab": {
          "base_uri": "https://localhost:8080/"
        },
        "id": "NNlRsJfd1IYr",
        "outputId": "6013d014-3d15-47e2-fa4a-37a1d439db11"
      },
      "execution_count": null,
      "outputs": [
        {
          "output_type": "execute_result",
          "data": {
            "text/plain": [
              "['Python', 'Javascript', 'C++']"
            ]
          },
          "metadata": {},
          "execution_count": 6
        }
      ]
    },
    {
      "cell_type": "code",
      "source": [
        "numeros = [ 1,2,3,4,5]\n"
      ],
      "metadata": {
        "id": "iE-rEcol1cAz"
      },
      "execution_count": null,
      "outputs": []
    },
    {
      "cell_type": "code",
      "source": [
        "dobles_numeros = []\n",
        "for numero in numeros:\n",
        "  dobles_numeros.append(numero*2)\n",
        "dobles_numeros"
      ],
      "metadata": {
        "colab": {
          "base_uri": "https://localhost:8080/"
        },
        "id": "EySdaJbN1yDJ",
        "outputId": "7b6d7e6b-15e8-40d9-bb34-25f5f11bca08"
      },
      "execution_count": null,
      "outputs": [
        {
          "output_type": "execute_result",
          "data": {
            "text/plain": [
              "[2, 4, 6, 8, 10]"
            ]
          },
          "metadata": {},
          "execution_count": 9
        }
      ]
    },
    {
      "cell_type": "code",
      "source": [
        "dobles_numeros = [numero * 2 for numero in numeros]\n",
        "dobles_numeros"
      ],
      "metadata": {
        "colab": {
          "base_uri": "https://localhost:8080/"
        },
        "id": "EGRRrNXG1lD6",
        "outputId": "94539da1-3f9a-4e6d-8f9c-4471d2e1d936"
      },
      "execution_count": null,
      "outputs": [
        {
          "output_type": "execute_result",
          "data": {
            "text/plain": [
              "[2, 4, 6, 8, 10]"
            ]
          },
          "metadata": {},
          "execution_count": 8
        }
      ]
    },
    {
      "cell_type": "code",
      "source": [
        "multiplos = []\n",
        "for numero in range(1,100):\n",
        "  if numero % 5 == 0:\n",
        "    multiplos.append(numero)\n",
        "multiplos"
      ],
      "metadata": {
        "colab": {
          "base_uri": "https://localhost:8080/"
        },
        "id": "gzK4o4B42GR5",
        "outputId": "f6ac49e3-959b-4228-9f3a-bafdf6a77a76"
      },
      "execution_count": null,
      "outputs": [
        {
          "output_type": "execute_result",
          "data": {
            "text/plain": [
              "[5, 10, 15, 20, 25, 30, 35, 40, 45, 50, 55, 60, 65, 70, 75, 80, 85, 90, 95]"
            ]
          },
          "metadata": {},
          "execution_count": 11
        }
      ]
    },
    {
      "cell_type": "code",
      "source": [
        "multiplos_comp = [numero for numero in range ( 1,100) if numero%5 == 0]\n",
        "multiplos_comp"
      ],
      "metadata": {
        "colab": {
          "base_uri": "https://localhost:8080/"
        },
        "id": "JE1BGG5l2hGq",
        "outputId": "87f4c70d-57ba-4133-d240-f2f8b9999253"
      },
      "execution_count": null,
      "outputs": [
        {
          "output_type": "execute_result",
          "data": {
            "text/plain": [
              "[5, 10, 15, 20, 25, 30, 35, 40, 45, 50, 55, 60, 65, 70, 75, 80, 85, 90, 95]"
            ]
          },
          "metadata": {},
          "execution_count": 12
        }
      ]
    },
    {
      "cell_type": "markdown",
      "source": [
        "# Resumiendo:\n",
        "compresion:\n",
        "[expresion for variable in colection if condition]"
      ],
      "metadata": {
        "id": "LxjivtYn3HMY"
      }
    },
    {
      "cell_type": "code",
      "source": [
        "coordenadas = []\n",
        "for x in range( 0,6):\n",
        "  for y in range(0,11):\n",
        "    coordenadas.append((x,y))\n",
        "coordenadas\n"
      ],
      "metadata": {
        "id": "wDnMm8Po3JqO"
      },
      "execution_count": null,
      "outputs": []
    },
    {
      "cell_type": "code",
      "source": [
        "coordenadas = [(x,y) for x in range(0,6) for y in range(0,11) ]\n",
        "coordenadas"
      ],
      "metadata": {
        "id": "wQ1--0R63ltZ"
      },
      "execution_count": null,
      "outputs": []
    },
    {
      "cell_type": "code",
      "source": [
        "coordenadas = [(x,y) for x in range(0,6) for y in range(0,11) if x==y]\n",
        "coordenadas"
      ],
      "metadata": {
        "colab": {
          "base_uri": "https://localhost:8080/"
        },
        "id": "M83RUauG4lqi",
        "outputId": "c85d9e2f-dca7-4b03-a78a-ae4ee9fdd7cb"
      },
      "execution_count": null,
      "outputs": [
        {
          "output_type": "execute_result",
          "data": {
            "text/plain": [
              "[(0, 0), (1, 1), (2, 2), (3, 3), (4, 4), (5, 5)]"
            ]
          },
          "metadata": {},
          "execution_count": 18
        }
      ]
    },
    {
      "cell_type": "markdown",
      "source": [
        "# Diccionarios"
      ],
      "metadata": {
        "id": "nYQuV7ri402_"
      }
    },
    {
      "cell_type": "code",
      "source": [
        "dobles = { \"Clave numero: \"+str(numero): numero *2 for numero in range(1,11)}\n",
        "type(dobles)"
      ],
      "metadata": {
        "colab": {
          "base_uri": "https://localhost:8080/"
        },
        "id": "SK-3NHG64-NI",
        "outputId": "075204e1-c0de-4354-d7f5-3da8738c3b00"
      },
      "execution_count": null,
      "outputs": [
        {
          "output_type": "execute_result",
          "data": {
            "text/plain": [
              "dict"
            ]
          },
          "metadata": {},
          "execution_count": 31
        }
      ]
    },
    {
      "cell_type": "markdown",
      "source": [
        "# Resumiendo:\n",
        "compresion:\n",
        "{clave:valor for variable in conlection if condition}"
      ],
      "metadata": {
        "id": "QeEiPEcG5si3"
      }
    },
    {
      "cell_type": "code",
      "source": [
        "dobles = { numero *2 for numero in range(1,11)}\n",
        "type(dobles)"
      ],
      "metadata": {
        "colab": {
          "base_uri": "https://localhost:8080/"
        },
        "id": "f-R8dkFr5rNf",
        "outputId": "b9995d63-2bfa-42d8-d625-17e82f799e05"
      },
      "execution_count": null,
      "outputs": [
        {
          "output_type": "execute_result",
          "data": {
            "text/plain": [
              "set"
            ]
          },
          "metadata": {},
          "execution_count": 30
        }
      ]
    },
    {
      "cell_type": "markdown",
      "source": [
        "# Ejercicios"
      ],
      "metadata": {
        "id": "llocQKyA63Rv"
      }
    },
    {
      "cell_type": "markdown",
      "source": [
        "Supongamos que tenemos una lista de palabras y queremos crear tres nuevas listas que contengan palabras que comienzan con una vocal, una consonante y un número, respectivamente. Además, queremos convertir todas las palabras a minúsculas."
      ],
      "metadata": {
        "id": "RIL-fyTT6-fG"
      }
    },
    {
      "cell_type": "code",
      "source": [
        "palabras = [\"Manzana\", \"Banana\", \"123abc\", \"Perro\", \"gato\", \"Elefante\", \"456def\", \"abeja\", \"Pájaro\"]\n",
        "# Lista numero 1 - palabras que empiecen con vocal\n",
        "vocal = [palabra for palabra in palabras if palabra[0].lower() in \"aeiou\"]\n",
        "# Lista numero 2 - palabras que empiezen con consonante\n",
        "consonante = [ palabra for palabra in palabras if palabra[0].lower() not in \"aeiou\" and palabra[0].lower().isalpha()]\n",
        "# Lista numero 3 - palabras que empiezen con numero\n",
        "numeros = [ palabra for palabra in palabras if palabra[0].isdigit()]\n",
        "print(f'''\n",
        "Lista con palabras que empiecen con una vocal: {vocal}\n",
        "Lista con palabras que empiecen con una consonante: {consonante}\n",
        "Lista con palabras que empiecen con un numero: {numeros}\n",
        "''')"
      ],
      "metadata": {
        "colab": {
          "base_uri": "https://localhost:8080/"
        },
        "id": "QQSYfzbm62oW",
        "outputId": "5ac41049-8732-4aca-ffae-4fb4cce671c7"
      },
      "execution_count": null,
      "outputs": [
        {
          "output_type": "stream",
          "name": "stdout",
          "text": [
            "\n",
            "Lista con palabras que empiecen con una vocal: ['Elefante', 'abeja']\n",
            "Lista con palabras que empiecen con una consonante: ['Manzana', 'Banana', 'Perro', 'gato', 'Pájaro']\n",
            "Lista con palabras que empiecen con un numero: ['123abc', '456def']\n",
            "\n"
          ]
        }
      ]
    },
    {
      "cell_type": "markdown",
      "source": [
        "Supongamos que tenemos un diccionario que contiene nombres y edades, y queremos crear tres nuevos diccionarios que contengan nombres y edades de personas cuyos nombres comiencen con una vocal, una consonante y un número, respectivamente. Además, queremos convertir todos los nombres a minúsculas."
      ],
      "metadata": {
        "id": "s9FbmREj9B4X"
      }
    },
    {
      "cell_type": "code",
      "source": [
        "personas = {\n",
        "    \"Ana\": 25,\n",
        "    \"Juan\": 30,\n",
        "    \"123Maria\": 40,\n",
        "    \"Pedro\": 35,\n",
        "    \"678Carlos\": 45,\n",
        "    \"Elena\": 28,\n",
        "    \"999Luisa\": 50\n",
        "}\n",
        "\n",
        "vocales = {nombre.lower(): edad for nombre,edad in personas.items() if nombre[0].lower() in \"aeiou\"}\n",
        "consonantes= {nombre.lower():edad for nombre,edad in personas.items() if nombre[0].lower() not in \"aeiou\" and nombre[0].isalpha()}\n",
        "numeros = { nombre.lower():edad  for nombre,edad in personas.items() if nombre[0].isdigit()}\n",
        "print(f'''\n",
        "Diccionario con nombres y edad cuyo nombre empiecen con una vocal: {vocales}\n",
        "Diccionario con nombres y edad cuyo nombre empiecen con una consonante: {consonantes}\n",
        "Diccionario con nombres y edad cuyo nombre empiecen con una numero: {numeros}\n",
        "''')"
      ],
      "metadata": {
        "colab": {
          "base_uri": "https://localhost:8080/"
        },
        "id": "MTHz6ceN9EYE",
        "outputId": "09f01173-c74e-4d2c-e84e-3a91b6898026"
      },
      "execution_count": null,
      "outputs": [
        {
          "output_type": "stream",
          "name": "stdout",
          "text": [
            "\n",
            "Diccionario con nombres y edad cuyo nombre empiecen con una vocal: {'ana': 25, 'elena': 28}\n",
            "Diccionario con nombres y edad cuyo nombre empiecen con una consonante: {'juan': 30, 'pedro': 35}\n",
            "Diccionario con nombres y edad cuyo nombre empiecen con una numero: {'123maria': 40, '678carlos': 45, '999luisa': 50}\n",
            "\n"
          ]
        }
      ]
    }
  ]
}