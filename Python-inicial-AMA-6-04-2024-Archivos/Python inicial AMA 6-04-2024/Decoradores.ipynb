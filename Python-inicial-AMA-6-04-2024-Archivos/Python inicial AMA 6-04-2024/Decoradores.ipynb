{
  "nbformat": 4,
  "nbformat_minor": 0,
  "metadata": {
    "colab": {
      "provenance": []
    },
    "kernelspec": {
      "name": "python3",
      "display_name": "Python 3"
    },
    "language_info": {
      "name": "python"
    }
  },
  "cells": [
    {
      "cell_type": "code",
      "source": [
        "age = 10\n",
        "if age >90:\n",
        "  print(\"Usted es mayor de 90 \")\n",
        "elif age<90 and age>18:\n",
        "  print(\"Usted es menor de 80\")\n",
        "elif age <18:\n",
        "  print(\"Usted es menor de edad\")"
      ],
      "metadata": {
        "colab": {
          "base_uri": "https://localhost:8080/"
        },
        "id": "gpFhpaAJxst0",
        "outputId": "0e224531-a8ed-496d-c7b7-fedfec293861"
      },
      "execution_count": null,
      "outputs": [
        {
          "output_type": "stream",
          "name": "stdout",
          "text": [
            "Usted es menor de edad\n"
          ]
        }
      ]
    },
    {
      "cell_type": "markdown",
      "source": [
        "# Switch statement\n",
        "\n",
        "*   match\n",
        "*   case\n",
        "\n"
      ],
      "metadata": {
        "id": "UQU1oo5Z0UIa"
      }
    },
    {
      "cell_type": "code",
      "source": [
        "texto =  input(\"Que lenguaje de programacion te gustaria aprender?\")\n",
        "match texto:\n",
        "  case \"JavaScript\":\n",
        "    print(\"Aprendamos JS\")\n",
        "  case \"Python\":\n",
        "    print(\"Aprendamos Python\")\n",
        "  case \"PHP\":\n",
        "    print(\"Aprendamos PHP\")\n",
        "  case \"Java\":\n",
        "    print(\"Aprendamos Java\")"
      ],
      "metadata": {
        "colab": {
          "base_uri": "https://localhost:8080/"
        },
        "id": "802gGhPq0NMl",
        "outputId": "783e7e48-59d5-486d-8dfe-6b8ea776d046"
      },
      "execution_count": null,
      "outputs": [
        {
          "output_type": "stream",
          "name": "stdout",
          "text": [
            "Que lenguaje de programacion te gustaria aprender?JavaScript\n",
            "Aprendamos JS\n"
          ]
        }
      ]
    },
    {
      "cell_type": "markdown",
      "source": [
        "# Decoradores"
      ],
      "metadata": {
        "id": "QEddHE5y2X-c"
      }
    },
    {
      "cell_type": "markdown",
      "source": [
        "a -> funcion de entrada\n",
        "b -> funcion envolvente\n",
        "c -> salida"
      ],
      "metadata": {
        "id": "Kn6XE0CN2-fa"
      }
    },
    {
      "cell_type": "code",
      "source": [
        "def aDecorar():\n",
        "  print(\"Hola soy la funcion b \")\n",
        "\n",
        "def decoradora(funcionB):\n",
        "  def envolvente():\n",
        "    print(\"Antes de la funcion a decorar\")\n",
        "    funcionB()\n",
        "    print(\"Despues de la funcion a decorar\")\n",
        "  return envolvente\n",
        "\n",
        "funcion_decoradora = decoradora(aDecorar)\n",
        "funcion_decoradora()"
      ],
      "metadata": {
        "colab": {
          "base_uri": "https://localhost:8080/"
        },
        "id": "IcY-6De-0ktc",
        "outputId": "1794d999-b62a-4026-94cf-e593de1f56d0"
      },
      "execution_count": null,
      "outputs": [
        {
          "output_type": "stream",
          "name": "stdout",
          "text": [
            "Antes de la funcion a decorar\n",
            "Hola soy la funcion b \n",
            "Despues de la funcion a decorar\n"
          ]
        }
      ]
    },
    {
      "cell_type": "code",
      "source": [
        "def decoradora(funcion):\n",
        "  def wrapper(*args,**kwargs):\n",
        "    c=5\n",
        "    d=5\n",
        "    print(c+d)\n",
        "    result= funcion(*args,**kwargs)\n",
        "    print(\"Despues de la funcion\")\n",
        "    return result\n",
        "  return wrapper\n",
        "\n",
        "@decoradora\n",
        "def sumar(a,b,c,d):\n",
        "  print(a+b+c+d)\n",
        "sumar(1,2,2,3)\n"
      ],
      "metadata": {
        "colab": {
          "base_uri": "https://localhost:8080/"
        },
        "id": "P7D0y5AU5XvT",
        "outputId": "e9683943-7294-4282-e6c1-33d8fd2355fe"
      },
      "execution_count": null,
      "outputs": [
        {
          "output_type": "stream",
          "name": "stdout",
          "text": [
            "10\n",
            "8\n",
            "Despues de la funcion\n"
          ]
        }
      ]
    },
    {
      "cell_type": "code",
      "source": [
        "import time\n",
        "def medidor_tiempo(function):\n",
        "  def wrapper(*args,**kwargs):\n",
        "    inicio = time.time()\n",
        "    result = function(*args,**kwargs)\n",
        "    print( result)\n",
        "    final = time.time()\n",
        "    total = final-inicio\n",
        "    print(\"El tiempo total que tardo la funcion en ejecutarse es de: \",total,\"segundos\")\n",
        "    return result\n",
        "  return wrapper\n",
        "\n",
        "@medidor_tiempo\n",
        "def saludar():\n",
        "  nombre= input(\"INgresa tu nombre\")\n",
        "  time.sleep(5)\n",
        "  print(\"Hola \",nombre)\n",
        "\n",
        "@medidor_tiempo\n",
        "def suma(a,b):\n",
        "  time.sleep(2)\n",
        "  print(a+b)\n",
        "\n",
        "@medidor_tiempo\n",
        "def resta(a,b):\n",
        "  return a-b\n",
        "\n",
        "saludar()\n",
        "suma(10,20)\n",
        "resta(1,2)"
      ],
      "metadata": {
        "colab": {
          "base_uri": "https://localhost:8080/"
        },
        "id": "Xg56S88o65ln",
        "outputId": "814c7394-86c7-4690-ec48-b58f685f8ad7"
      },
      "execution_count": null,
      "outputs": [
        {
          "output_type": "stream",
          "name": "stdout",
          "text": [
            "INgresa tu nombreana\n",
            "Hola  ana\n",
            "None\n",
            "El tiempo total que tardo la funcion en ejecutarse es de:  7.105210542678833 segundos\n",
            "30\n",
            "None\n",
            "El tiempo total que tardo la funcion en ejecutarse es de:  2.002222776412964 segundos\n",
            "3\n",
            "El tiempo total que tardo la funcion en ejecutarse es de:  6.365776062011719e-05 segundos\n"
          ]
        },
        {
          "output_type": "execute_result",
          "data": {
            "text/plain": [
              "3"
            ]
          },
          "metadata": {},
          "execution_count": 40
        }
      ]
    }
  ]
}